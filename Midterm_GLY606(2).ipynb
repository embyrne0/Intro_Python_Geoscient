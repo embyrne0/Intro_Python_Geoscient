{
 "cells": [
  {
   "cell_type": "code",
   "execution_count": 1,
   "id": "f124d779-a2b3-4570-974f-c0c7573005ed",
   "metadata": {},
   "outputs": [],
   "source": [
    "%matplotlib inline"
   ]
  },
  {
   "cell_type": "code",
   "execution_count": 2,
   "id": "8a004b15-57a9-4d52-affe-2c14c5ed7280",
   "metadata": {},
   "outputs": [],
   "source": [
    "# libraries and packages \n",
    "import numpy as np\n",
    "import pandas as pd\n",
    "import xarray as xr\n",
    "import matplotlib.pyplot as plt\n",
    "import geopandas as gpd"
   ]
  },
  {
   "cell_type": "markdown",
   "id": "b824c5f2-b32a-40e7-8ce8-a7b1f88e1592",
   "metadata": {},
   "source": [
    "# Overview\n",
    "\n",
    "* Highest score you can get is **95 points**.\n",
    "    * This exam contains an opportunity for a bonus 5 points, which is located in Section 4.2. \n",
    "    * If your total score (including bonus scores) exceeds 95 points, you will get 95 points.\n",
    "\n",
    "\n",
    "* Files that need to be submitted (three files in total):\n",
    "    * When you finish answering all questions in this notebook *or* time is up, convert this notebook as \"HTML\" file (click `File`->`Save and Export Notebook As...`->`HTML` and submit the HTML file\n",
    "    * Two bash scripts, i.e., `midterm.1_1.sh` and `midterm.1_2.sh`\n",
    "\n",
    "\n",
    "* How to submit: Email the three files to my email: ycheng46@buffalo.edu"
   ]
  },
  {
   "cell_type": "markdown",
   "id": "d4cf8c46-cb02-45f4-927b-79bf8df834ed",
   "metadata": {},
   "source": [
    "# 1. Bash script (20 points)"
   ]
  },
  {
   "cell_type": "markdown",
   "id": "cc4696b1-b0bd-48c9-9e8c-fcdf64317f21",
   "metadata": {},
   "source": [
    "In this section, you are asked to write **two** bash scripts.\n",
    "\n",
    "1. Write a bash script (midterm.1_1.sh) that can output numbers 1 to 5. (5 points)\n",
    "\n",
    "2. Write a bash script (midterm.1_2.sh) to create configuration files for **5** sites (An example configuration file for the **US-ARM** site is `config.US-ARM`). (15 points)\n",
    "    * File `site_info.csv` contains information for the five sites, with each row denoting one site. The columns (from left to right) denote 1) `site id`, 2) `start date`, and 3) `number of run days`.\n",
    "    * For each site, the configuration file would be named as `config.<site_id>`\n",
    "    * HINT: In the bash script, you are supposed to replace the place holder string in `config.template`, such as `SITEID`, `STARTDATE`, `NUMRUNDAY`, using the information in `site_info.csv`\n"
   ]
  },
  {
   "cell_type": "markdown",
   "id": "36430244-367b-43e7-a2fe-e3283b2df5b5",
   "metadata": {},
   "source": [
    "# 2. Basic statistics (25 points)\n",
    "\n",
    "Calculate the basic statistics for **annual peak flow** at the Skykomish site. </br> \n",
    "\n",
    "\n",
    "\n",
    "We use `pandas` package to read in `Skykomish_peak_flow.csv` and it has three columns, i.e., `water year`, `peak value (cfs)`, and `gage_ht (feet)`. The column `peak value (cfs)` contains the annual peak flow from Year 1929 to 2023 at the Skykomish site."
   ]
  },
  {
   "cell_type": "code",
   "execution_count": 3,
   "id": "c515e995-6086-47c4-b224-3d620c0e0a0d",
   "metadata": {},
   "outputs": [],
   "source": [
    "df_2 = pd.read_csv(\"Skykomish_peak_flow.csv\") # using pd.read_csv to read the csv file "
   ]
  },
  {
   "cell_type": "code",
   "execution_count": 5,
   "id": "b1f4e163-b498-4041-b205-d82e4dc8b524",
   "metadata": {},
   "outputs": [
    {
     "data": {
      "text/html": [
       "<div>\n",
       "<style scoped>\n",
       "    .dataframe tbody tr th:only-of-type {\n",
       "        vertical-align: middle;\n",
       "    }\n",
       "\n",
       "    .dataframe tbody tr th {\n",
       "        vertical-align: top;\n",
       "    }\n",
       "\n",
       "    .dataframe thead th {\n",
       "        text-align: right;\n",
       "    }\n",
       "</style>\n",
       "<table border=\"1\" class=\"dataframe\">\n",
       "  <thead>\n",
       "    <tr style=\"text-align: right;\">\n",
       "      <th></th>\n",
       "      <th>water year</th>\n",
       "      <th>peak value (cfs)</th>\n",
       "      <th>gage_ht (feet)</th>\n",
       "    </tr>\n",
       "  </thead>\n",
       "  <tbody>\n",
       "    <tr>\n",
       "      <th>0</th>\n",
       "      <td>1929</td>\n",
       "      <td>18800</td>\n",
       "      <td>10.55</td>\n",
       "    </tr>\n",
       "    <tr>\n",
       "      <th>1</th>\n",
       "      <td>1930</td>\n",
       "      <td>15800</td>\n",
       "      <td>10.44</td>\n",
       "    </tr>\n",
       "    <tr>\n",
       "      <th>2</th>\n",
       "      <td>1931</td>\n",
       "      <td>35100</td>\n",
       "      <td>14.08</td>\n",
       "    </tr>\n",
       "    <tr>\n",
       "      <th>3</th>\n",
       "      <td>1932</td>\n",
       "      <td>83300</td>\n",
       "      <td>20.70</td>\n",
       "    </tr>\n",
       "    <tr>\n",
       "      <th>4</th>\n",
       "      <td>1933</td>\n",
       "      <td>72500</td>\n",
       "      <td>19.50</td>\n",
       "    </tr>\n",
       "    <tr>\n",
       "      <th>...</th>\n",
       "      <td>...</td>\n",
       "      <td>...</td>\n",
       "      <td>...</td>\n",
       "    </tr>\n",
       "    <tr>\n",
       "      <th>89</th>\n",
       "      <td>2019</td>\n",
       "      <td>35200</td>\n",
       "      <td>14.98</td>\n",
       "    </tr>\n",
       "    <tr>\n",
       "      <th>90</th>\n",
       "      <td>2020</td>\n",
       "      <td>72200</td>\n",
       "      <td>19.50</td>\n",
       "    </tr>\n",
       "    <tr>\n",
       "      <th>91</th>\n",
       "      <td>2021</td>\n",
       "      <td>37400</td>\n",
       "      <td>15.26</td>\n",
       "    </tr>\n",
       "    <tr>\n",
       "      <th>92</th>\n",
       "      <td>2022</td>\n",
       "      <td>57900</td>\n",
       "      <td>17.94</td>\n",
       "    </tr>\n",
       "    <tr>\n",
       "      <th>93</th>\n",
       "      <td>2023</td>\n",
       "      <td>53300</td>\n",
       "      <td>17.41</td>\n",
       "    </tr>\n",
       "  </tbody>\n",
       "</table>\n",
       "<p>94 rows × 3 columns</p>\n",
       "</div>"
      ],
      "text/plain": [
       "    water year  peak value (cfs)  gage_ht (feet)\n",
       "0         1929             18800           10.55\n",
       "1         1930             15800           10.44\n",
       "2         1931             35100           14.08\n",
       "3         1932             83300           20.70\n",
       "4         1933             72500           19.50\n",
       "..         ...               ...             ...\n",
       "89        2019             35200           14.98\n",
       "90        2020             72200           19.50\n",
       "91        2021             37400           15.26\n",
       "92        2022             57900           17.94\n",
       "93        2023             53300           17.41\n",
       "\n",
       "[94 rows x 3 columns]"
      ]
     },
     "execution_count": 5,
     "metadata": {},
     "output_type": "execute_result"
    }
   ],
   "source": [
    "df_2 # check the variable "
   ]
  },
  {
   "cell_type": "markdown",
   "id": "cf343420-dce0-4121-8309-0d612b513362",
   "metadata": {},
   "source": [
    "### 2.1. plot the time series of annual peak flow (5 points)\n",
    "* Plot style: line plot\n",
    "* x: `water year`\n",
    "* y: `peak value (cfs)`"
   ]
  },
  {
   "cell_type": "code",
   "execution_count": 9,
   "id": "6860d41f-56e0-4a6e-9ec2-f6d13ce391ff",
   "metadata": {
    "collapsed": true,
    "jupyter": {
     "outputs_hidden": true
    },
    "tags": []
   },
   "outputs": [
    {
     "data": {
      "text/plain": [
       "Text(0.5, 1.0, 'Water year vs Peak Value')"
      ]
     },
     "execution_count": 9,
     "metadata": {},
     "output_type": "execute_result"
    },
    {
     "data": {
      "image/png": "[encoded data removed]",
      "text/plain": [
       "<Figure size 432x288 with 1 Axes>"
      ]
     },
     "metadata": {
      "needs_background": "light"
     },
     "output_type": "display_data"
    }
   ],
   "source": [
    "# Insert your code here\n",
    "plt.plot(df_2['water year'], df_2['peak value (cfs)'])\n",
    "plt.title('Water year vs Peak Value')"
   ]
  },
  {
   "cell_type": "markdown",
   "id": "f6e1716f-2d30-40cf-ad46-4fc1019da289",
   "metadata": {},
   "source": [
    "### 2.2. Calculate the mean value and standard deviation for the annual peak flow across all years (5 points)\n",
    "* Print the mean value and standard deviation (do not forget units)"
   ]
  },
  {
   "cell_type": "code",
   "execution_count": 10,
   "id": "a8e4268b-cefe-4a9d-95fd-1c039ebd95b8",
   "metadata": {},
   "outputs": [],
   "source": [
    "# Insert your code here\n",
    "    # mean \n",
    "mean_peakfl = df_2['peak value (cfs)'].mean()\n",
    "    # standard deviation \n",
    "mean_peakfl = df_2['peak value (cfs)'].std()\n"
   ]
  },
  {
   "cell_type": "markdown",
   "id": "8913392f-11d5-4d23-8df4-29d60ec5dcd6",
   "metadata": {},
   "source": [
    "### 2.3. Calculate the flood magnitude with 100-year recurrence interval (15 points)\n",
    "* Plot the Annual exceedance probability\n",
    "* Print the 100-year flood magnitude (do not forget units)"
   ]
  },
  {
   "cell_type": "code",
   "execution_count": null,
   "id": "0699fc4f-dd28-46d2-9642-2a589bd42516",
   "metadata": {},
   "outputs": [],
   "source": [
    "# Insert your code here"
   ]
  },
  {
   "cell_type": "code",
   "execution_count": null,
   "id": "03b6bc19-6e92-4c9e-8854-1b51ce846139",
   "metadata": {},
   "outputs": [],
   "source": []
  },
  {
   "cell_type": "code",
   "execution_count": null,
   "id": "11a92026-5433-4740-acc6-e77cb9a8d5c5",
   "metadata": {},
   "outputs": [],
   "source": []
  },
  {
   "cell_type": "markdown",
   "id": "a52c8f94-663d-4caa-aea1-0a06c7a3f654",
   "metadata": {},
   "source": [
    "# 3. Linear regression & Hypothesis testing (30 points)"
   ]
  },
  {
   "cell_type": "markdown",
   "id": "42d15a4c-5a26-4e61-827b-1369df39484d",
   "metadata": {
    "tags": []
   },
   "source": [
    "### 3.1. Fit a linear regression model for `water year` and `peak value (cfs)`  (10 points)\n",
    "`water year` is the independent variable (x) and `peak value (cfs)` is the dependent variable (y).\n",
    "* Print B0 (intercept), B1 (slope), Sum of Squared Errors (SSE), Total Sum of Squares (SST), and Correlation Coefficient (r)."
   ]
  },
  {
   "cell_type": "code",
   "execution_count": null,
   "id": "67b33723-7f99-41bd-8924-defbc1a92796",
   "metadata": {},
   "outputs": [],
   "source": [
    "# Insert your code here"
   ]
  },
  {
   "cell_type": "code",
   "execution_count": null,
   "id": "43a84642-359c-4cb1-a73f-1dfbaa25c46e",
   "metadata": {},
   "outputs": [],
   "source": []
  },
  {
   "cell_type": "markdown",
   "id": "400c6cd5-c323-4f34-86e0-06864c7d04a4",
   "metadata": {},
   "source": [
    "### 3.2. Does annual peak flow have a statistically significant increasing trend? (20 points)\n",
    "* What are the null hypothesis and alternative hypothesis?\n",
    "* Calculate the confidence intervals for Slope `B1` at 95% confidence level and print out their values\n",
    "* Based on the confidence intervals for `B1`, please discuss whether the annual peak flow has a statistically significant increasing trend."
   ]
  },
  {
   "cell_type": "markdown",
   "id": "f3bc705a-3d09-46fa-9ce4-95345a6a1956",
   "metadata": {},
   "source": [
    "#### Type below: what are the null hypothesis and alternative hypothesis?\n",
    "\n"
   ]
  },
  {
   "cell_type": "markdown",
   "id": "ec94d695-862f-412e-a026-6a5c3d013278",
   "metadata": {},
   "source": []
  },
  {
   "cell_type": "code",
   "execution_count": null,
   "id": "d7749aab-7268-45a1-a5cc-aa8e61f3cda5",
   "metadata": {},
   "outputs": [],
   "source": [
    "# Insert the code here"
   ]
  },
  {
   "cell_type": "code",
   "execution_count": null,
   "id": "7751c742-6dcd-4801-b82e-b332b8a04e36",
   "metadata": {},
   "outputs": [],
   "source": []
  },
  {
   "cell_type": "code",
   "execution_count": null,
   "id": "e6539c74-60a2-4aba-86f3-f07c62203615",
   "metadata": {},
   "outputs": [],
   "source": []
  },
  {
   "cell_type": "markdown",
   "id": "b97a7950-0264-45f2-bd8d-c60bbb61d215",
   "metadata": {},
   "source": [
    "#### Type below: discuss whether the annual peak flow has a statistically significant increasing trend."
   ]
  },
  {
   "cell_type": "markdown",
   "id": "f00924fe-afce-478d-9c0a-94a394e05dad",
   "metadata": {},
   "source": []
  },
  {
   "cell_type": "markdown",
   "id": "92fa2990-7ec6-4b06-b1ef-aef488a71837",
   "metadata": {},
   "source": [
    "### "
   ]
  },
  {
   "cell_type": "code",
   "execution_count": null,
   "id": "93c17039-7f30-4172-bbe5-4cb2456f2f3e",
   "metadata": {},
   "outputs": [],
   "source": []
  },
  {
   "cell_type": "code",
   "execution_count": null,
   "id": "8e42f3b1-0766-43e3-a17d-3538e0d09f8e",
   "metadata": {},
   "outputs": [],
   "source": []
  },
  {
   "cell_type": "code",
   "execution_count": null,
   "id": "26348fd4-2fb5-495c-8f33-938c6460cff8",
   "metadata": {},
   "outputs": [],
   "source": []
  },
  {
   "cell_type": "markdown",
   "id": "e78c34c1-24ab-44d7-bea4-e7a600e58617",
   "metadata": {},
   "source": [
    "# 4. Visualization (20 points)"
   ]
  },
  {
   "cell_type": "markdown",
   "id": "70761b79-5637-485f-8e8f-029f1f660420",
   "metadata": {},
   "source": [
    "### 4.1. Visualize the linear regression and confident intervals (10 points)\n",
    "Following components will need to be included in **one figure**\n",
    "1. A scatter plot of `water year`(x-axis) and `peak value (cfs)` (y-axis)\n",
    "2. A line plot of fitted linear regression (line style: solid line, line color: black)\n",
    "3. Two line plots for upper and lower B1 confidence intervals (line style: dashed line, line color: blue)\n",
    "\n",
    "* Note: a) add proper labels for x-axis and y-axis, b) remember to add legends for all scatter and line plots"
   ]
  },
  {
   "cell_type": "code",
   "execution_count": null,
   "id": "176f8a32-66e0-45bf-a58a-838231ea6b92",
   "metadata": {},
   "outputs": [],
   "source": [
    "# Insert your code here"
   ]
  },
  {
   "cell_type": "code",
   "execution_count": null,
   "id": "47ea88ff-7fe9-4589-9073-578d31e13504",
   "metadata": {},
   "outputs": [],
   "source": []
  },
  {
   "cell_type": "markdown",
   "id": "3dbca40e-1127-482b-8936-1d089995a584",
   "metadata": {},
   "source": [
    "### 4.2. Create a map using `geopandas` (10 points + 5 bonus points)\n",
    "\n",
    "If you can finish the `basic requirements` section, you will get the full score (10 points). For 5 bonus points, you will need to finish the `additional requirements`.\n",
    "\n",
    "* basic requirements\n",
    "    * Set crs to `Mercator`\n",
    "    * Plot the county-level New York State map\n",
    "        * The facecolor for each county should reflect the 2020 population (Column **POP2020** in the `NY_conuties.gpkg` file)\n",
    "        * Please use the \"Greens\" colormap\n",
    "    * Add legend\n",
    "\n",
    "\n",
    "* additional requirements\n",
    "    * New York City's population pops up too much in this map. Please create a discrete colormap to make the color more evenly distributed\n",
    "    * Add coastal lines and country boundaries\n",
    "    * Set background land color in \"#E4E5BB\", background ocean color in \"#5E819D\"\n",
    "    * Add grid lines to the maps"
   ]
  },
  {
   "cell_type": "code",
   "execution_count": null,
   "id": "ea603210-d90d-449d-9773-ea85a92c85c1",
   "metadata": {},
   "outputs": [],
   "source": [
    "ny = gpd.read_file(\"NY_counties.gpkg\")"
   ]
  },
  {
   "cell_type": "code",
   "execution_count": null,
   "id": "8694e0a8-f3c0-40a8-af45-c308661ad1be",
   "metadata": {},
   "outputs": [],
   "source": [
    "# Insert your code here"
   ]
  },
  {
   "cell_type": "code",
   "execution_count": null,
   "id": "cb3e3c7f-1497-4779-808d-6aa0af33639a",
   "metadata": {},
   "outputs": [],
   "source": []
  },
  {
   "cell_type": "code",
   "execution_count": null,
   "id": "4e020aec-5a21-4fcd-94d8-b3359078516d",
   "metadata": {},
   "outputs": [],
   "source": []
  }
 ],
 "metadata": {
  "kernelspec": {
   "display_name": "Python 3 (ipykernel)",
   "language": "python",
   "name": "python3"
  },
  "language_info": {
   "codemirror_mode": {
    "name": "ipython",
    "version": 3
   },
   "file_extension": ".py",
   "mimetype": "text/x-python",
   "name": "python",
   "nbconvert_exporter": "python",
   "pygments_lexer": "ipython3",
   "version": "3.9.7"
  }
 },
 "nbformat": 4,
 "nbformat_minor": 5
}
